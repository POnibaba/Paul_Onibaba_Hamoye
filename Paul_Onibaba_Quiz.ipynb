{
 "cells": [
  {
   "cell_type": "markdown",
   "metadata": {},
   "source": [
    "# Quiz Code"
   ]
  },
  {
   "cell_type": "markdown",
   "metadata": {},
   "source": [
    "## Name: Paul Onibaba \n",
    "## Student ID: 66bf0e"
   ]
  },
  {
   "cell_type": "code",
   "execution_count": 2,
   "metadata": {},
   "outputs": [],
   "source": [
    "#importing both numpyand pandas to myjupiter notebook\n",
    "import numpy as np\n",
    "import pandas as pd"
   ]
  },
  {
   "cell_type": "markdown",
   "metadata": {},
   "source": [
    "## Question 1\n",
    "```How do you create an identity matrix in python```"
   ]
  },
  {
   "cell_type": "code",
   "execution_count": 3,
   "metadata": {},
   "outputs": [
    {
     "data": {
      "text/plain": [
       "array([[1., 0., 0.],\n",
       "       [0., 1., 0.],\n",
       "       [0., 0., 1.]])"
      ]
     },
     "execution_count": 3,
     "metadata": {},
     "output_type": "execute_result"
    }
   ],
   "source": [
    "# You create that by using the dataframe.identity() function\n",
    "np.identity(3)"
   ]
  },
  {
   "cell_type": "code",
   "execution_count": 4,
   "metadata": {},
   "outputs": [
    {
     "data": {
      "text/html": [
       "<div>\n",
       "<style scoped>\n",
       "    .dataframe tbody tr th:only-of-type {\n",
       "        vertical-align: middle;\n",
       "    }\n",
       "\n",
       "    .dataframe tbody tr th {\n",
       "        vertical-align: top;\n",
       "    }\n",
       "\n",
       "    .dataframe thead th {\n",
       "        text-align: right;\n",
       "    }\n",
       "</style>\n",
       "<table border=\"1\" class=\"dataframe\">\n",
       "  <thead>\n",
       "    <tr style=\"text-align: right;\">\n",
       "      <th></th>\n",
       "      <th>record_id</th>\n",
       "      <th>utility_id_ferc1</th>\n",
       "      <th>report_year</th>\n",
       "      <th>plant_name_ferc1</th>\n",
       "      <th>fuel_type_code_pudl</th>\n",
       "      <th>fuel_unit</th>\n",
       "      <th>fuel_qty_burned</th>\n",
       "      <th>fuel_mmbtu_per_unit</th>\n",
       "      <th>fuel_cost_per_unit_burned</th>\n",
       "      <th>fuel_cost_per_unit_delivered</th>\n",
       "      <th>fuel_cost_per_mmbtu</th>\n",
       "    </tr>\n",
       "  </thead>\n",
       "  <tbody>\n",
       "    <tr>\n",
       "      <th>0</th>\n",
       "      <td>f1_fuel_1994_12_1_0_7</td>\n",
       "      <td>1</td>\n",
       "      <td>1994</td>\n",
       "      <td>rockport</td>\n",
       "      <td>coal</td>\n",
       "      <td>ton</td>\n",
       "      <td>5377489.0</td>\n",
       "      <td>16.590</td>\n",
       "      <td>18.59</td>\n",
       "      <td>18.53</td>\n",
       "      <td>1.121</td>\n",
       "    </tr>\n",
       "    <tr>\n",
       "      <th>1</th>\n",
       "      <td>f1_fuel_1994_12_1_0_10</td>\n",
       "      <td>1</td>\n",
       "      <td>1994</td>\n",
       "      <td>rockport total plant</td>\n",
       "      <td>coal</td>\n",
       "      <td>ton</td>\n",
       "      <td>10486945.0</td>\n",
       "      <td>16.592</td>\n",
       "      <td>18.58</td>\n",
       "      <td>18.53</td>\n",
       "      <td>1.120</td>\n",
       "    </tr>\n",
       "    <tr>\n",
       "      <th>2</th>\n",
       "      <td>f1_fuel_1994_12_2_0_1</td>\n",
       "      <td>2</td>\n",
       "      <td>1994</td>\n",
       "      <td>gorgas</td>\n",
       "      <td>coal</td>\n",
       "      <td>ton</td>\n",
       "      <td>2978683.0</td>\n",
       "      <td>24.130</td>\n",
       "      <td>39.72</td>\n",
       "      <td>38.12</td>\n",
       "      <td>1.650</td>\n",
       "    </tr>\n",
       "  </tbody>\n",
       "</table>\n",
       "</div>"
      ],
      "text/plain": [
       "                record_id  utility_id_ferc1  report_year  \\\n",
       "0   f1_fuel_1994_12_1_0_7                 1         1994   \n",
       "1  f1_fuel_1994_12_1_0_10                 1         1994   \n",
       "2   f1_fuel_1994_12_2_0_1                 2         1994   \n",
       "\n",
       "       plant_name_ferc1 fuel_type_code_pudl fuel_unit  fuel_qty_burned  \\\n",
       "0              rockport                coal       ton        5377489.0   \n",
       "1  rockport total plant                coal       ton       10486945.0   \n",
       "2                gorgas                coal       ton        2978683.0   \n",
       "\n",
       "   fuel_mmbtu_per_unit  fuel_cost_per_unit_burned  \\\n",
       "0               16.590                      18.59   \n",
       "1               16.592                      18.58   \n",
       "2               24.130                      39.72   \n",
       "\n",
       "   fuel_cost_per_unit_delivered  fuel_cost_per_mmbtu  \n",
       "0                         18.53                1.121  \n",
       "1                         18.53                1.120  \n",
       "2                         38.12                1.650  "
      ]
     },
     "execution_count": 4,
     "metadata": {},
     "output_type": "execute_result"
    }
   ],
   "source": [
    "# Reading the dataset to work with\n",
    "data = pd.read_csv(\"p_util_Data.csv\")\n",
    "data.head(3)"
   ]
  },
  {
   "cell_type": "markdown",
   "metadata": {},
   "source": [
    "## Question 2\n",
    "```The feature with missing values falls under what category? What missing value imputation technique would you use```"
   ]
  },
  {
   "cell_type": "markdown",
   "metadata": {},
   "source": [
    "The missing values could be found under the \"fuel_unit\" feature which is not in numbers but in strings which were categorized. Owing to this, the Mode computation will be used.\n"
   ]
  },
  {
   "cell_type": "code",
   "execution_count": 5,
   "metadata": {},
   "outputs": [
    {
     "data": {
      "text/plain": [
       "fuel_unit\n",
       "bbl        7998\n",
       "gal          84\n",
       "gramsU      464\n",
       "kgU         110\n",
       "mcf       11354\n",
       "mmbtu       180\n",
       "mwdth        95\n",
       "mwhth       100\n",
       "ton        8958\n",
       "Name: fuel_unit, dtype: int64"
      ]
     },
     "execution_count": 5,
     "metadata": {},
     "output_type": "execute_result"
    }
   ],
   "source": [
    "data.groupby(\"fuel_unit\")[\"fuel_unit\"].count()"
   ]
  },
  {
   "cell_type": "markdown",
   "metadata": {},
   "source": [
    "## Question 3\n",
    "```Which of the features has the second and third lowest correlation with the Fuel Cost Per Unit Burned```"
   ]
  },
  {
   "cell_type": "code",
   "execution_count": 6,
   "metadata": {},
   "outputs": [
    {
     "data": {
      "text/html": [
       "<div>\n",
       "<style scoped>\n",
       "    .dataframe tbody tr th:only-of-type {\n",
       "        vertical-align: middle;\n",
       "    }\n",
       "\n",
       "    .dataframe tbody tr th {\n",
       "        vertical-align: top;\n",
       "    }\n",
       "\n",
       "    .dataframe thead th {\n",
       "        text-align: right;\n",
       "    }\n",
       "</style>\n",
       "<table border=\"1\" class=\"dataframe\">\n",
       "  <thead>\n",
       "    <tr style=\"text-align: right;\">\n",
       "      <th></th>\n",
       "      <th>fuel_cost_per_unit_burned</th>\n",
       "      <th>fuel_qty_burned</th>\n",
       "      <th>report_year</th>\n",
       "      <th>utility_id_ferc1</th>\n",
       "      <th>fuel_mmbtu_per_unit</th>\n",
       "      <th>fuel_cost_per_unit_delivered</th>\n",
       "      <th>fuel_cost_per_mmbtu</th>\n",
       "    </tr>\n",
       "  </thead>\n",
       "  <tbody>\n",
       "    <tr>\n",
       "      <th>fuel_qty_burned</th>\n",
       "      <td>-0.390275</td>\n",
       "      <td>1.000000</td>\n",
       "      <td>-0.077383</td>\n",
       "      <td>-0.049794</td>\n",
       "      <td>0.088374</td>\n",
       "      <td>-0.257279</td>\n",
       "      <td>-0.540417</td>\n",
       "    </tr>\n",
       "    <tr>\n",
       "      <th>utility_id_ferc1</th>\n",
       "      <td>-0.074844</td>\n",
       "      <td>-0.049794</td>\n",
       "      <td>0.067659</td>\n",
       "      <td>1.000000</td>\n",
       "      <td>-0.095919</td>\n",
       "      <td>-0.068846</td>\n",
       "      <td>-0.017177</td>\n",
       "    </tr>\n",
       "    <tr>\n",
       "      <th>report_year</th>\n",
       "      <td>0.233647</td>\n",
       "      <td>-0.077383</td>\n",
       "      <td>1.000000</td>\n",
       "      <td>0.067659</td>\n",
       "      <td>-0.041444</td>\n",
       "      <td>0.178867</td>\n",
       "      <td>0.378130</td>\n",
       "    </tr>\n",
       "    <tr>\n",
       "      <th>fuel_cost_per_mmbtu</th>\n",
       "      <td>0.318533</td>\n",
       "      <td>-0.540417</td>\n",
       "      <td>0.378130</td>\n",
       "      <td>-0.017177</td>\n",
       "      <td>-0.280657</td>\n",
       "      <td>0.221548</td>\n",
       "      <td>1.000000</td>\n",
       "    </tr>\n",
       "    <tr>\n",
       "      <th>fuel_mmbtu_per_unit</th>\n",
       "      <td>0.557998</td>\n",
       "      <td>0.088374</td>\n",
       "      <td>-0.041444</td>\n",
       "      <td>-0.095919</td>\n",
       "      <td>1.000000</td>\n",
       "      <td>0.494841</td>\n",
       "      <td>-0.280657</td>\n",
       "    </tr>\n",
       "    <tr>\n",
       "      <th>fuel_cost_per_unit_delivered</th>\n",
       "      <td>0.760263</td>\n",
       "      <td>-0.257279</td>\n",
       "      <td>0.178867</td>\n",
       "      <td>-0.068846</td>\n",
       "      <td>0.494841</td>\n",
       "      <td>1.000000</td>\n",
       "      <td>0.221548</td>\n",
       "    </tr>\n",
       "    <tr>\n",
       "      <th>fuel_cost_per_unit_burned</th>\n",
       "      <td>1.000000</td>\n",
       "      <td>-0.390275</td>\n",
       "      <td>0.233647</td>\n",
       "      <td>-0.074844</td>\n",
       "      <td>0.557998</td>\n",
       "      <td>0.760263</td>\n",
       "      <td>0.318533</td>\n",
       "    </tr>\n",
       "  </tbody>\n",
       "</table>\n",
       "</div>"
      ],
      "text/plain": [
       "                              fuel_cost_per_unit_burned  fuel_qty_burned  \\\n",
       "fuel_qty_burned                               -0.390275         1.000000   \n",
       "utility_id_ferc1                              -0.074844        -0.049794   \n",
       "report_year                                    0.233647        -0.077383   \n",
       "fuel_cost_per_mmbtu                            0.318533        -0.540417   \n",
       "fuel_mmbtu_per_unit                            0.557998         0.088374   \n",
       "fuel_cost_per_unit_delivered                   0.760263        -0.257279   \n",
       "fuel_cost_per_unit_burned                      1.000000        -0.390275   \n",
       "\n",
       "                              report_year  utility_id_ferc1  \\\n",
       "fuel_qty_burned                 -0.077383         -0.049794   \n",
       "utility_id_ferc1                 0.067659          1.000000   \n",
       "report_year                      1.000000          0.067659   \n",
       "fuel_cost_per_mmbtu              0.378130         -0.017177   \n",
       "fuel_mmbtu_per_unit             -0.041444         -0.095919   \n",
       "fuel_cost_per_unit_delivered     0.178867         -0.068846   \n",
       "fuel_cost_per_unit_burned        0.233647         -0.074844   \n",
       "\n",
       "                              fuel_mmbtu_per_unit  \\\n",
       "fuel_qty_burned                          0.088374   \n",
       "utility_id_ferc1                        -0.095919   \n",
       "report_year                             -0.041444   \n",
       "fuel_cost_per_mmbtu                     -0.280657   \n",
       "fuel_mmbtu_per_unit                      1.000000   \n",
       "fuel_cost_per_unit_delivered             0.494841   \n",
       "fuel_cost_per_unit_burned                0.557998   \n",
       "\n",
       "                              fuel_cost_per_unit_delivered  \\\n",
       "fuel_qty_burned                                  -0.257279   \n",
       "utility_id_ferc1                                 -0.068846   \n",
       "report_year                                       0.178867   \n",
       "fuel_cost_per_mmbtu                               0.221548   \n",
       "fuel_mmbtu_per_unit                               0.494841   \n",
       "fuel_cost_per_unit_delivered                      1.000000   \n",
       "fuel_cost_per_unit_burned                         0.760263   \n",
       "\n",
       "                              fuel_cost_per_mmbtu  \n",
       "fuel_qty_burned                         -0.540417  \n",
       "utility_id_ferc1                        -0.017177  \n",
       "report_year                              0.378130  \n",
       "fuel_cost_per_mmbtu                      1.000000  \n",
       "fuel_mmbtu_per_unit                     -0.280657  \n",
       "fuel_cost_per_unit_delivered             0.221548  \n",
       "fuel_cost_per_unit_burned                0.318533  "
      ]
     },
     "execution_count": 6,
     "metadata": {},
     "output_type": "execute_result"
    }
   ],
   "source": [
    "# since the question was to correlate all the features with fuel cost per unit burned \n",
    "# then i had to use the spearman's correlation viewing the dataset as a non normal distribution \n",
    "# and sorting it with the dependent variable \"fuel cost per unit burned\" \n",
    "cor = data.loc[:,[\"fuel_cost_per_unit_burned\",\"fuel_qty_burned\",\"report_year\",\"utility_id_ferc1\",\n",
    "                  \"fuel_mmbtu_per_unit\",\"fuel_cost_per_unit_delivered\",\"fuel_cost_per_mmbtu\"]\n",
    "              ].corr(\"spearman\").sort_values(\"fuel_cost_per_unit_burned\", ascending=True)\n",
    "cor\n"
   ]
  },
  {
   "cell_type": "code",
   "execution_count": 8,
   "metadata": {},
   "outputs": [
    {
     "name": "stdout",
     "output_type": "stream",
     "text": [
      "the second and third lowest correlation to Fuel cost per unit burned are:\n",
      " utility_id_ferc1   -0.074844\n",
      "report_year         0.233647\n",
      "Name: fuel_cost_per_unit_burned, dtype: float64\n"
     ]
    }
   ],
   "source": [
    "# i called out second and third lowest correlation with the fuel cost per unit burned and printed it\n",
    "print(\"the second and third lowest correlation to Fuel cost per unit burned are:\\n\", cor.iloc[[1,2],0])"
   ]
  },
  {
   "cell_type": "markdown",
   "metadata": {},
   "source": [
    "## Question 4\n",
    "```For the fuel type coal, what is the percentage change in the fuel cost per unit burned in 1998 compared to 1994```"
   ]
  },
  {
   "cell_type": "code",
   "execution_count": 9,
   "metadata": {},
   "outputs": [
    {
     "data": {
      "text/html": [
       "<div>\n",
       "<style scoped>\n",
       "    .dataframe tbody tr th:only-of-type {\n",
       "        vertical-align: middle;\n",
       "    }\n",
       "\n",
       "    .dataframe tbody tr th {\n",
       "        vertical-align: top;\n",
       "    }\n",
       "\n",
       "    .dataframe thead th {\n",
       "        text-align: right;\n",
       "    }\n",
       "</style>\n",
       "<table border=\"1\" class=\"dataframe\">\n",
       "  <thead>\n",
       "    <tr style=\"text-align: right;\">\n",
       "      <th></th>\n",
       "      <th></th>\n",
       "      <th>fuel_cost_per_unit_burned</th>\n",
       "    </tr>\n",
       "    <tr>\n",
       "      <th>report_year</th>\n",
       "      <th>fuel_type_code_pudl</th>\n",
       "      <th></th>\n",
       "    </tr>\n",
       "  </thead>\n",
       "  <tbody>\n",
       "    <tr>\n",
       "      <th rowspan=\"5\" valign=\"top\">1994</th>\n",
       "      <th>coal</th>\n",
       "      <td>14984.572</td>\n",
       "    </tr>\n",
       "    <tr>\n",
       "      <th>gas</th>\n",
       "      <td>10792.496</td>\n",
       "    </tr>\n",
       "    <tr>\n",
       "      <th>nuclear</th>\n",
       "      <td>227983.354</td>\n",
       "    </tr>\n",
       "    <tr>\n",
       "      <th>oil</th>\n",
       "      <td>9362.194</td>\n",
       "    </tr>\n",
       "    <tr>\n",
       "      <th>other</th>\n",
       "      <td>116.737</td>\n",
       "    </tr>\n",
       "    <tr>\n",
       "      <th>...</th>\n",
       "      <th>...</th>\n",
       "      <td>...</td>\n",
       "    </tr>\n",
       "    <tr>\n",
       "      <th rowspan=\"5\" valign=\"top\">2018</th>\n",
       "      <th>coal</th>\n",
       "      <td>9488.197</td>\n",
       "    </tr>\n",
       "    <tr>\n",
       "      <th>gas</th>\n",
       "      <td>4322.494</td>\n",
       "    </tr>\n",
       "    <tr>\n",
       "      <th>nuclear</th>\n",
       "      <td>173267.161</td>\n",
       "    </tr>\n",
       "    <tr>\n",
       "      <th>oil</th>\n",
       "      <td>33836.602</td>\n",
       "    </tr>\n",
       "    <tr>\n",
       "      <th>waste</th>\n",
       "      <td>660.972</td>\n",
       "    </tr>\n",
       "  </tbody>\n",
       "</table>\n",
       "<p>148 rows × 1 columns</p>\n",
       "</div>"
      ],
      "text/plain": [
       "                                 fuel_cost_per_unit_burned\n",
       "report_year fuel_type_code_pudl                           \n",
       "1994        coal                                 14984.572\n",
       "            gas                                  10792.496\n",
       "            nuclear                             227983.354\n",
       "            oil                                   9362.194\n",
       "            other                                  116.737\n",
       "...                                                    ...\n",
       "2018        coal                                  9488.197\n",
       "            gas                                   4322.494\n",
       "            nuclear                             173267.161\n",
       "            oil                                  33836.602\n",
       "            waste                                  660.972\n",
       "\n",
       "[148 rows x 1 columns]"
      ]
     },
     "execution_count": 9,
     "metadata": {},
     "output_type": "execute_result"
    }
   ],
   "source": [
    "# i grouped the sum of each fuel cost per unit burned based on report year and fueltype\n",
    "coal_change = data.groupby([\"report_year\",\"fuel_type_code_pudl\"])[[\"fuel_cost_per_unit_burned\"]].sum()\n",
    "coal_change\n"
   ]
  },
  {
   "cell_type": "code",
   "execution_count": 11,
   "metadata": {},
   "outputs": [
    {
     "name": "stdout",
     "output_type": "stream",
     "text": [
      "-21.0\n"
     ]
    }
   ],
   "source": [
    "# called out two years in question and assigned an identifier to it\n",
    "year_1998 = coal_change.loc[1998,\"coal\"]\n",
    "year_1994 = coal_change.loc[1994,\"coal\"]\n",
    "\n",
    "# applied the pct_change()function and multiplied by 100\n",
    "data_coal_1998_1994 = year_1994.append(year_1998)\n",
    "pct_1998_1994 =(data_coal_1998_1994.pct_change())*100\n",
    "\n",
    "#rounded up the output to an integer\n",
    "print(round(pct_1998_1994.iloc[1]))"
   ]
  },
  {
   "cell_type": "markdown",
   "metadata": {},
   "source": [
    "## Question 5\n",
    "```Which year has the highest average fuel cost per unit delivered```"
   ]
  },
  {
   "cell_type": "code",
   "execution_count": 12,
   "metadata": {},
   "outputs": [
    {
     "name": "stdout",
     "output_type": "stream",
     "text": [
      "the year with the highest average fuel cost per unit delivered is: \n",
      " report_year\n",
      "1997    11140.197239\n",
      "Name: fuel_cost_per_unit_delivered, dtype: float64\n"
     ]
    }
   ],
   "source": [
    "# group the fuel cost per unit delivered by the report year and applied the .mean() function sorting the output value \n",
    "# in increasing order\n",
    "Hi_fuelcost_perdel = data.groupby(\"report_year\")[\"fuel_cost_per_unit_delivered\"].mean().sort_values(ascending=False)\n",
    "\n",
    "# printed the first year in the order which happend to be the highest average \n",
    "print(\"the year with the highest average fuel cost per unit delivered is: \\n\", Hi_fuelcost_perdel[:1])"
   ]
  },
  {
   "cell_type": "markdown",
   "metadata": {},
   "source": [
    "## Question 6\n",
    "```What is the standard deviation and 75th percentile of the measure of energy per unit (fuel_mmbtu_per_unit)```"
   ]
  },
  {
   "cell_type": "code",
   "execution_count": 13,
   "metadata": {},
   "outputs": [
    {
     "name": "stdout",
     "output_type": "stream",
     "text": [
      "the standard deviation and 75th percentile of The measure of Energy per unit are : \n",
      " 10.60 and 17.01 respectively\n"
     ]
    }
   ],
   "source": [
    "# Applied the .std() and .quantile() function calling out Fuel mmbtu per unit feature from the dataset\n",
    "std_mmbtu_unit = data[\"fuel_mmbtu_per_unit\"].std()\n",
    "per_75th_mmbtu = data[\"fuel_mmbtu_per_unit\"].quantile(0.75)\n",
    "\n",
    "#formatted my printing\n",
    "print(\"the standard deviation and 75th percentile of The measure of Energy per unit are : \\n %.2f and %.2f respectively\" \n",
    "      % (std_mmbtu_unit, per_75th_mmbtu))"
   ]
  },
  {
   "cell_type": "markdown",
   "metadata": {},
   "source": [
    "## Question 7\n",
    "```what is the skewness and kurtosis for the fuel quantity burned in two decimal places``` "
   ]
  },
  {
   "cell_type": "code",
   "execution_count": 14,
   "metadata": {},
   "outputs": [
    {
     "name": "stdout",
     "output_type": "stream",
     "text": [
      "the skewness and kurtosis of The fuel quantity burned are : \n",
      " 15.85 and 651.37 respectively\n"
     ]
    }
   ],
   "source": [
    "# Applied the .skew() and .kurt() function calling out the Fuel quantity burned feature from the dataset\n",
    "skew_fuel_qburned = data[\"fuel_qty_burned\"].skew()\n",
    "kurt_fuel_qburned = data[\"fuel_qty_burned\"].kurt()\n",
    "print(\"the skewness and kurtosis of The fuel quantity burned are : \\n %.2f and %.2f respectively\" \n",
    "      % (skew_fuel_qburned, kurt_fuel_qburned))"
   ]
  },
  {
   "cell_type": "markdown",
   "metadata": {},
   "source": [
    "## Question 8\n",
    "```Which feature has missing values and what is the total number of missing value and percentage of missing rows as a factor of the total number of rows in three decimal places```"
   ]
  },
  {
   "cell_type": "code",
   "execution_count": 15,
   "metadata": {},
   "outputs": [
    {
     "name": "stdout",
     "output_type": "stream",
     "text": [
      "record_id                         0\n",
      "utility_id_ferc1                  0\n",
      "report_year                       0\n",
      "plant_name_ferc1                  0\n",
      "fuel_type_code_pudl               0\n",
      "fuel_unit                       180\n",
      "fuel_qty_burned                   0\n",
      "fuel_mmbtu_per_unit               0\n",
      "fuel_cost_per_unit_burned         0\n",
      "fuel_cost_per_unit_delivered      0\n",
      "fuel_cost_per_mmbtu               0\n",
      "dtype: int64 \n",
      "\n",
      "Feature : Fuel unit \n",
      "\n",
      "Total:180 \n",
      "\n",
      "Percent: 0.610\n"
     ]
    }
   ],
   "source": [
    "# find the total missing values of each feature in the dataset\n",
    "missing_val = data.isnull().sum()\n",
    "\n",
    "# selecting the total missing value of the feature with missing value\n",
    "total_missing_value = missing_val.iloc[5]\n",
    "\n",
    "# count the remaining filled values in the feature where missing value is found\n",
    "total_filled_value = data.groupby(\"fuel_unit\")[\"fuel_unit\"].count().sum()\n",
    "\n",
    "# get the total or expected values to be filled by adding the missing value with the filled value\n",
    "total_expected_value_funit = total_missing_value + total_filled_value \n",
    "\n",
    "#find the percentage of the missing value\n",
    "percentage_missing = ((total_missing_value/total_expected_value_funit)*100)\n",
    "\n",
    "print(missing_val, \"\\n\")\n",
    "print(\"Feature : Fuel unit \\n\")\n",
    "print(\"Total:%d \\n\" % total_missing_value)\n",
    "print(\"Percent: %.3f\" % percentage_missing)"
   ]
  },
  {
   "cell_type": "markdown",
   "metadata": {},
   "source": [
    "## Question 9\n",
    "``which of the following fuel type code has the lowest average fuel cost per unit burned```"
   ]
  },
  {
   "cell_type": "code",
   "execution_count": 16,
   "metadata": {},
   "outputs": [
    {
     "name": "stdout",
     "output_type": "stream",
     "text": [
      "fuel_type_code_pudl\n",
      "gas    13.659397\n",
      "Name: fuel_cost_per_unit_burned, dtype: float64\n"
     ]
    }
   ],
   "source": [
    "# grouped the fuel cost per unit urned by fuel type and applied the .mean() to find the average\n",
    "# and also sorting the value in ascending order printing only the lowest fuel type wis is gas\n",
    "\n",
    "print(data.groupby(\"fuel_type_code_pudl\")[\"fuel_cost_per_unit_burned\"].mean().sort_values(ascending=True)[:1])"
   ]
  },
  {
   "cell_type": "markdown",
   "metadata": {},
   "source": [
    "## Question 10\n",
    "``` If you're given two lists: A= [1,2,3,4,5,6], B= [13,21,34]\n",
    "The task is to create a list with the elements of A and B in a single dimension with output:\n",
    "A_B= [1,2,3,4,5,6,13,21,34].\n",
    "Which of the following option is the best way to create the list```"
   ]
  },
  {
   "cell_type": "code",
   "execution_count": 17,
   "metadata": {},
   "outputs": [
    {
     "name": "stdout",
     "output_type": "stream",
     "text": [
      "None\n"
     ]
    }
   ],
   "source": [
    "A = [1,2,3,4,5,6]\n",
    "B = [13, 21, 34]\n",
    "A_B = A.extend(B)\n",
    "print(A_B)"
   ]
  },
  {
   "cell_type": "code",
   "execution_count": 18,
   "metadata": {},
   "outputs": [
    {
     "name": "stdout",
     "output_type": "stream",
     "text": [
      "None\n"
     ]
    }
   ],
   "source": [
    "A = [1,2,3,4,5,6]\n",
    "B = [13, 21, 34]\n",
    "A_B = A.append(B)\n",
    "print(A_B)"
   ]
  },
  {
   "cell_type": "markdown",
   "metadata": {},
   "source": [
    "##### for  question 10, having tried the \".append() and a.extend(), therefore, i concluded that the answer is'nt in the options given"
   ]
  }
 ],
 "metadata": {
  "kernelspec": {
   "display_name": "Python 3",
   "language": "python",
   "name": "python3"
  },
  "language_info": {
   "codemirror_mode": {
    "name": "ipython",
    "version": 3
   },
   "file_extension": ".py",
   "mimetype": "text/x-python",
   "name": "python",
   "nbconvert_exporter": "python",
   "pygments_lexer": "ipython3",
   "version": "3.7.6"
  }
 },
 "nbformat": 4,
 "nbformat_minor": 4
}
